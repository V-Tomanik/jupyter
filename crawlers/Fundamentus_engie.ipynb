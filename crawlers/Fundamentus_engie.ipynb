{
 "cells": [
  {
   "cell_type": "code",
   "execution_count": null,
   "metadata": {},
   "outputs": [],
   "source": [
    "Juypter para exploração do site FUNDAMENTUS, para futuramente empregar a biblioteca scrappy e varer o site. "
   ]
  },
  {
   "cell_type": "code",
   "execution_count": 3,
   "metadata": {},
   "outputs": [],
   "source": [
    "import requests\n",
    "from bs4 import BeautifulSoup"
   ]
  },
  {
   "cell_type": "code",
   "execution_count": 95,
   "metadata": {},
   "outputs": [],
   "source": [
    "url =  'https://www.fundamentus.com.br/detalhes.php?papel=ENGI3'\n",
    "header = {'User-Agent': 'Mozilla/5.0 (X11; Ubuntu; Linux x86_64; rv:80.0) Gecko/20100101 Firefox/80.0'}\n",
    "\n",
    "data = requests.get(url=url, headers=header).text"
   ]
  },
  {
   "cell_type": "code",
   "execution_count": 96,
   "metadata": {},
   "outputs": [],
   "source": [
    "soup = BeautifulSoup(data, 'html.parser')"
   ]
  },
  {
   "cell_type": "code",
   "execution_count": 98,
   "metadata": {},
   "outputs": [],
   "source": [
    "#soup.prettify"
   ]
  },
  {
   "cell_type": "code",
   "execution_count": 124,
   "metadata": {},
   "outputs": [
    {
     "name": "stdout",
     "output_type": "stream",
     "text": [
      "{'Papel': 'ENGI3', 'Cotação': '13,07', 'Tipo': 'ON', 'Data últ cot': '11/09/2020', 'Empresa': 'ENERGISAON', 'Min 52 sem': '10,20', 'Setor': 'EnergiaElétrica', 'Max 52 sem': '14,76', 'Subsetor': 'EnergiaElétrica', 'Vol $ méd (2m)': '146.107', 'Valor de mercado': '23.716.300.000', 'Últ balanço processado': '30/06/2020', 'Valor da firma': '38.992.500.000', 'Nro. Ações': '1.814.560.000', 'Dia': '-0,76%', 'P/L': '28,19', 'LPA': '0,46', 'Mês': '3,24%', 'P/VP': '3,87', 'VPA': '3,37', '30 dias': '-5,56%', 'P/EBIT': '10,59', 'Marg. Bruta': '15,4%', '12 meses': '-5,70%', 'PSR': '1,21', 'Marg. EBIT': '11,4%', '2020': '-3,14%', 'P/Ativos': '0,56', 'Marg. Líquida': '4,6%', '2019': '70,68%', 'P/Cap. Giro': '36,03', 'EBIT / Ativo': '5,3%', '2018': '-14,56%', 'P/Ativ Circ Liq': '-0,99', 'ROIC': '6,1%', '2017': '156,59%', 'Div. Yield': '0,9%', 'ROE': '13,7%', '2016': '31,41%', 'EV / EBITDA': '11,37', 'Liquidez Corr': '1,06', '2015': '48,13%', 'EV / EBIT': '17,42', 'Div Br/ Patrim': '3,12', '': '', 'Cres. Rec (5a)': '14,4%', 'Giro Ativos': '0,47', 'Ativo': '42.058.400.000', 'Dív. Bruta': '19.129.100.000', 'Disponibilidades': '3.852.960.000', 'Dív. Líquida': '15.276.200.000', 'Ativo Circulante': '11.219.200.000', 'Patrim. Líq': '6.121.330.000', 'Receita Líquida_0': '19.617.100.000', 'Receita Líquida_1': '4.398.710.000', 'EBIT_0': '2.238.580.000', 'EBIT_1': '433.779.000', 'Lucro Líquido_0': '841.246.000', 'Lucro Líquido_1': '-104.581.000'}\n"
     ]
    }
   ],
   "source": [
    "#Pegamos todos os itens da tablea\n",
    "pg = {}\n",
    "for a in soup.find_all('table'):\n",
    "    for b in a.find_all('tr'):\n",
    "        #print(b)\n",
    "        label = [l.text.replace('?','') for l in b.find_all('td',class_= 'label')]\n",
    "        data =  [d.text.replace('\\n','').replace(' ','') for d in b.find_all('td',class_='data')]\n",
    "        #print(label,data)\n",
    "        for n in range(0,len(label)):\n",
    "            #0-> 12 meses, 1 -> 3 meses\n",
    "            if label[n] in ('Receita Líquida','EBIT','Lucro Líquido'):\n",
    "                label[n] += f'_{n}'\n",
    "            pg[label[n]] = data[n]\n",
    "print(pg)"
   ]
  },
  {
   "cell_type": "code",
   "execution_count": null,
   "metadata": {},
   "outputs": [],
   "source": [
    "#Feito!"
   ]
  }
 ],
 "metadata": {
  "kernelspec": {
   "display_name": "local-python",
   "language": "python",
   "name": "local-python"
  },
  "language_info": {
   "codemirror_mode": {
    "name": "ipython",
    "version": 3
   },
   "file_extension": ".py",
   "mimetype": "text/x-python",
   "name": "python",
   "nbconvert_exporter": "python",
   "pygments_lexer": "ipython3",
   "version": "3.6.9"
  }
 },
 "nbformat": 4,
 "nbformat_minor": 4
}
